{
  "cells": [
    {
      "cell_type": "markdown",
      "metadata": {
        "id": "q5JZRlPNbkFB"
      },
      "source": [
        "# Лабораторная работа 9. Алгоритмы на графах."
      ]
    },
    {
      "cell_type": "code",
      "execution_count": 2,
      "metadata": {
        "colab": {
          "base_uri": "https://localhost:8080/"
        },
        "id": "2vDTe3MpbkFH",
        "outputId": "17f7c9bd-2d27-49e6-edc8-6882a0e38a23"
      },
      "outputs": [
        {
          "output_type": "stream",
          "name": "stdout",
          "text": [
            "Looking in indexes: https://pypi.org/simple, https://us-python.pkg.dev/colab-wheels/public/simple/\n",
            "Requirement already satisfied: networkx in /usr/local/lib/python3.7/dist-packages (2.6.3)\n"
          ]
        }
      ],
      "source": [
        "!pip install networkx\n",
        "import networkx as nx\n",
        "import pylab\n",
        "import matplotlib.pyplot as plt\n",
        "G = nx.DiGraph()"
      ]
    },
    {
      "cell_type": "code",
      "source": [
        ""
      ],
      "metadata": {
        "id": "WZxSECM3VOQR"
      },
      "execution_count": 2,
      "outputs": []
    },
    {
      "cell_type": "code",
      "source": [
        "graph = {'A': ['B', 'C'],\n",
        "         'B': ['A', 'D', 'E'],\n",
        "         'C': ['A', 'F'],\n",
        "         'D': ['B'],\n",
        "         'E': ['B', 'F'],\n",
        "         'F': ['C', 'E']}\n",
        "j=\"\"\n",
        "for i in graph:#проходим по словарю\n",
        "  j=\"\"\n",
        "  for g in graph[i]: #получаем список\n",
        "    for jk in range(len(graph[i])): # определяем кол-во элемнтов в списке и задаем проход итераций\n",
        "        print(graph[i],graph[i][jk])\n",
        "\n",
        "  "
      ],
      "metadata": {
        "colab": {
          "base_uri": "https://localhost:8080/"
        },
        "id": "4PXxN_pqVOR3",
        "outputId": "13c857f9-b155-4a42-86ab-8bd4b87d9ed6"
      },
      "execution_count": 3,
      "outputs": [
        {
          "output_type": "stream",
          "name": "stdout",
          "text": [
            "['B', 'C'] B\n",
            "['B', 'C'] C\n",
            "['B', 'C'] B\n",
            "['B', 'C'] C\n",
            "['A', 'D', 'E'] A\n",
            "['A', 'D', 'E'] D\n",
            "['A', 'D', 'E'] E\n",
            "['A', 'D', 'E'] A\n",
            "['A', 'D', 'E'] D\n",
            "['A', 'D', 'E'] E\n",
            "['A', 'D', 'E'] A\n",
            "['A', 'D', 'E'] D\n",
            "['A', 'D', 'E'] E\n",
            "['A', 'F'] A\n",
            "['A', 'F'] F\n",
            "['A', 'F'] A\n",
            "['A', 'F'] F\n",
            "['B'] B\n",
            "['B', 'F'] B\n",
            "['B', 'F'] F\n",
            "['B', 'F'] B\n",
            "['B', 'F'] F\n",
            "['C', 'E'] C\n",
            "['C', 'E'] E\n",
            "['C', 'E'] C\n",
            "['C', 'E'] E\n"
          ]
        }
      ]
    },
    {
      "cell_type": "markdown",
      "metadata": {
        "id": "ddvZdTo7bkFJ"
      },
      "source": [
        "Пусть задан грав множеством смежности:"
      ]
    },
    {
      "cell_type": "code",
      "execution_count": 4,
      "metadata": {
        "id": "mQutj546bkFK"
      },
      "outputs": [],
      "source": [
        "pos = {0: {1, 2},\n",
        "       1: {3, 4},\n",
        "       2: {1, 4},\n",
        "       3: {4},\n",
        "       4: {1, 3, 5},\n",
        "       5: {0, 2}}"
      ]
    },
    {
      "cell_type": "markdown",
      "metadata": {
        "id": "2l6HThEUbkFL"
      },
      "source": [
        "Создадим соответствующий направленный граф (https://networkx.github.io/documentation/networkx-1.10/reference/classes.digraph.html)"
      ]
    },
    {
      "cell_type": "code",
      "execution_count": 5,
      "metadata": {
        "colab": {
          "base_uri": "https://localhost:8080/",
          "height": 337
        },
        "id": "VuFjer1kbkFL",
        "outputId": "51876ce0-8d94-4d02-d9df-218734c48275"
      },
      "outputs": [
        {
          "output_type": "display_data",
          "data": {
            "text/plain": [
              "<Figure size 432x288 with 1 Axes>"
            ],
            "image/png": "[encoded data removed]"
          },
          "metadata": {}
        },
        {
          "output_type": "display_data",
          "data": {
            "text/plain": [
              "<Figure size 432x288 with 0 Axes>"
            ]
          },
          "metadata": {}
        }
      ],
      "source": [
        "N = len(pos)\n",
        "G = nx.DiGraph()\n",
        "a = [(i, j) for i in range(N) for j in pos[i]] # генерация списка рёбер\n",
        "\n",
        "G.add_nodes_from(range(N))\n",
        "G.add_edges_from(a)\n",
        "\n",
        "nx.draw(G)\n",
        "\n",
        "pylab.figure ()\n",
        "plt.show()"
      ]
    },
    {
      "cell_type": "code",
      "source": [
        "print(a)\n"
      ],
      "metadata": {
        "colab": {
          "base_uri": "https://localhost:8080/"
        },
        "id": "ys2NbiSMgJ5N",
        "outputId": "592950bf-3d4f-454d-9510-ee3a0127abda"
      },
      "execution_count": 6,
      "outputs": [
        {
          "output_type": "stream",
          "name": "stdout",
          "text": [
            "[(0, 1), (0, 2), (1, 3), (1, 4), (2, 1), (2, 4), (3, 4), (4, 1), (4, 3), (4, 5), (5, 0), (5, 2)]\n"
          ]
        }
      ]
    },
    {
      "cell_type": "markdown",
      "metadata": {
        "id": "lJYeeE-CbkFM"
      },
      "source": [
        "# 1. Алгоритмы обхода графа."
      ]
    },
    {
      "cell_type": "markdown",
      "metadata": {
        "id": "QY4fXkipbkFM"
      },
      "source": [
        "Во многих приложениях нужно уметь выписывать все вершины графа по одному разу, начиная с некоторой. Это делается с помощью обходов в глубину или в ширину.\n",
        "\n",
        "Основная идея обходов:\n",
        "\n",
        "- на каждом шаге рассмотреть очередную необработанную вершину;\n",
        "- пометить эту вершину некоторым образом;\n",
        "- до/после обработки данной вершины осуществить обход из всех нерассмотренных соседей.\n",
        "\n",
        "Для упорядочивания вершин используется очередь (обход в ширину) или стек (обход в глубину)."
      ]
    },
    {
      "cell_type": "markdown",
      "metadata": {
        "id": "0cRnvbZTbkFN"
      },
      "source": [
        "# 1.1. Поиск в ширину."
      ]
    },
    {
      "cell_type": "markdown",
      "metadata": {
        "id": "kvuEFizSbkFO"
      },
      "source": [
        "Код программы реализующий поиск в ширину (с записью предшественников):"
      ]
    },
    {
      "cell_type": "code",
      "execution_count": 7,
      "metadata": {
        "id": "FLu3waU7bkFO"
      },
      "outputs": [],
      "source": [
        "def bfs(graph, s, out=0):\n",
        "    parents = {v: None for v in graph}\n",
        "    level = {v: None for v in graph}\n",
        "    level[s] = 0                          # уровень начальной вершины\n",
        "    queue = [s]                           # добавляем начальную вершину в очередь\n",
        "    while queue:                          # пока там что-то есть\n",
        "        v = queue.pop(0)                  # извлекаем вершину\n",
        "        for w in graph[v]:                # запускаем обход из вершины v\n",
        "            if level[w] is None:          # проверка на посещенность\n",
        "                queue.append(w)           # добавление вершины в очередь\n",
        "                parents[w] = v\n",
        "                level[w] = level[v] + 1   # подсчитываем уровень вершины\n",
        "        if out: print(level[w], level, queue)\n",
        "    return level, parents\n"
      ]
    },
    {
      "cell_type": "markdown",
      "metadata": {
        "id": "OyoZNibgbkFP"
      },
      "source": [
        "И программы востанавливающий маршрут:"
      ]
    },
    {
      "cell_type": "code",
      "execution_count": 8,
      "metadata": {
        "id": "NNYuSTHRbkFP"
      },
      "outputs": [],
      "source": [
        "def PATH (end, parents):\n",
        "    path = [end]\n",
        "    parent = parents[end]\n",
        "    while not parent is None:\n",
        "        path.append(parent)\n",
        "        parent = parents[parent]\n",
        "    return path[::-1]"
      ]
    },
    {
      "cell_type": "markdown",
      "metadata": {
        "id": "GkQNbgQwbkFP"
      },
      "source": [
        "# 1.2. Поиск в глубину."
      ]
    },
    {
      "cell_type": "markdown",
      "metadata": {
        "id": "7WhNJPtGbkFQ"
      },
      "source": [
        "Код программы реализующий поиск в ширину (с записью предшественников):"
      ]
    },
    {
      "cell_type": "code",
      "execution_count": 9,
      "metadata": {
        "id": "FE_mydfZbkFQ"
      },
      "outputs": [],
      "source": [
        "def dfs(graph, s, out=0):\n",
        "    level = {v: None for v in graph}  \n",
        "    print(level) \n",
        "    level[s] = 0                                # уровень начальной вершины\n",
        "    queue = [s]   \n",
        "    print(queue)                              # добавляем начальную вершину в очередь\n",
        "    while queue:                                # пока там что-то есть\n",
        "        v = queue.pop(-1)                       # извлекаем вершину\n",
        "        for w in graph[v]:                      # запускаем обход из вершины v\n",
        "            if level[w] is None:                # проверка на посещенность\n",
        "                queue.append(w)                 # добавление вершины в очередь\n",
        "                level[w] = level[v] + 1         # подсчитываем уровень вершины\n",
        "        if out: print(level[w], level, queue)\n",
        "    return level"
      ]
    },
    {
      "cell_type": "code",
      "execution_count": 10,
      "metadata": {
        "colab": {
          "base_uri": "https://localhost:8080/"
        },
        "id": "_vsRBw14bkFR",
        "outputId": "ec1407b1-490c-4745-877b-807ae0dcd801"
      },
      "outputs": [
        {
          "output_type": "stream",
          "name": "stdout",
          "text": [
            "{0: None, 1: None, 2: None, 3: None, 4: None, 5: None}\n",
            "[0]\n",
            "1 {0: 0, 1: 1, 2: 1, 3: None, 4: None, 5: None} [1, 2]\n",
            "2 {0: 0, 1: 1, 2: 1, 3: None, 4: 2, 5: None} [1, 4]\n",
            "3 {0: 0, 1: 1, 2: 1, 3: 3, 4: 2, 5: 3} [1, 3, 5]\n",
            "1 {0: 0, 1: 1, 2: 1, 3: 3, 4: 2, 5: 3} [1, 3]\n",
            "2 {0: 0, 1: 1, 2: 1, 3: 3, 4: 2, 5: 3} [1]\n",
            "2 {0: 0, 1: 1, 2: 1, 3: 3, 4: 2, 5: 3} []\n"
          ]
        },
        {
          "output_type": "execute_result",
          "data": {
            "text/plain": [
              "{0: 0, 1: 1, 2: 1, 3: 3, 4: 2, 5: 3}"
            ]
          },
          "metadata": {},
          "execution_count": 10
        }
      ],
      "source": [
        "dfs(pos, 0, 1)"
      ]
    },
    {
      "cell_type": "code",
      "execution_count": 11,
      "metadata": {
        "colab": {
          "base_uri": "https://localhost:8080/"
        },
        "id": "zOWYwg67bkFR",
        "outputId": "095e3308-8557-4286-ed1f-ff614ccb62e4"
      },
      "outputs": [
        {
          "output_type": "execute_result",
          "data": {
            "text/plain": [
              "{1, 4}"
            ]
          },
          "metadata": {},
          "execution_count": 11
        }
      ],
      "source": [
        "pos[2]"
      ]
    },
    {
      "cell_type": "markdown",
      "metadata": {
        "id": "DrzWMV6vbkFR"
      },
      "source": [
        "# Пример 1.\n",
        "\n",
        "Определим с помощью поиска в ширину кратчайший маршрут:"
      ]
    },
    {
      "cell_type": "code",
      "execution_count": 12,
      "metadata": {
        "id": "oa0vGpApbkFS"
      },
      "outputs": [],
      "source": [
        "level, parents = bfs(pos, 0, out=0)"
      ]
    },
    {
      "cell_type": "code",
      "execution_count": 13,
      "metadata": {
        "colab": {
          "base_uri": "https://localhost:8080/"
        },
        "id": "ANGa4OpAbkFS",
        "outputId": "492c6f18-2e85-4411-c3d7-fea8502f46d2"
      },
      "outputs": [
        {
          "output_type": "execute_result",
          "data": {
            "text/plain": [
              "{0: 0, 1: 1, 2: 1, 3: 2, 4: 2, 5: 3}"
            ]
          },
          "metadata": {},
          "execution_count": 13
        }
      ],
      "source": [
        "level"
      ]
    },
    {
      "cell_type": "code",
      "execution_count": 14,
      "metadata": {
        "colab": {
          "base_uri": "https://localhost:8080/"
        },
        "id": "epkX3ES3bkFT",
        "outputId": "af2927e6-2132-4c22-cecb-e33a71226565"
      },
      "outputs": [
        {
          "output_type": "execute_result",
          "data": {
            "text/plain": [
              "{0: None, 1: 0, 2: 0, 3: 1, 4: 1, 5: 4}"
            ]
          },
          "metadata": {},
          "execution_count": 14
        }
      ],
      "source": [
        "parents"
      ]
    },
    {
      "cell_type": "code",
      "execution_count": 15,
      "metadata": {
        "colab": {
          "base_uri": "https://localhost:8080/"
        },
        "id": "gqtTmvbNbkFT",
        "outputId": "4b5c5625-73b6-465e-c8e3-1861f542ea81"
      },
      "outputs": [
        {
          "output_type": "stream",
          "name": "stdout",
          "text": [
            "[0, 1, 4, 5]\n"
          ]
        }
      ],
      "source": [
        "path = PATH(5, parents)\n",
        "print(path)"
      ]
    },
    {
      "cell_type": "code",
      "source": [
        "graph = {0: [1, 2],\n",
        "         1: [0, 3, 4],         # A=0 B=1 C=2 d=3 E=4 F=5\n",
        "         2: [0, 5],\n",
        "         3: [1],\n",
        "         4: [1, 5],\n",
        "         5: [2, 4]}\n",
        "j=\"\"\n",
        "G = nx.DiGraph()\n",
        "spis=[]\n",
        "for i in graph:#проходим по словарю\n",
        "  j=\"\"\n",
        "  \n",
        "  for jk in range(len(graph[i])): # определяем кол-во элемнтов в списке и задаем проход итераций\n",
        "    spis+=[(i,graph[i][jk])]\n",
        "G.add_nodes_from(range(len(graph)))\n",
        "G.add_edges_from(spis)\n",
        "nx.draw(G)\n",
        "#nx.draw_networkx_edges(G, spis, width =2.0, edge_color='r', arrows=True)\n",
        "pylab.figure ()\n",
        "plt.show()\n",
        "print(spis)\n",
        "#nx.draw_networkx_nodes(G, p, cmap=plt.get_cmap('jet'), node_color = node_colours, node_size = 500)\n",
        "#nx.draw_networkx_labels(G, p)\n",
        "#nx.draw_networkx_edges(G, p, edgelist=black_edges, width =2.0, edge_color='k', arrows=True)\n",
        "#nx.draw_networkx_edges(G, p, edgelist=red_edges, width =3.0, edge_color='r', arrows=True)"
      ],
      "metadata": {
        "colab": {
          "base_uri": "https://localhost:8080/",
          "height": 355
        },
        "id": "LCaPFunzgfCX",
        "outputId": "1a9c0080-050f-4cc9-b090-4070aee3cfae"
      },
      "execution_count": 45,
      "outputs": [
        {
          "output_type": "display_data",
          "data": {
            "text/plain": [
              "<Figure size 432x288 with 1 Axes>"
            ],
            "image/png": "[encoded data removed]"
          },
          "metadata": {}
        },
        {
          "output_type": "display_data",
          "data": {
            "text/plain": [
              "<Figure size 432x288 with 0 Axes>"
            ]
          },
          "metadata": {}
        },
        {
          "output_type": "stream",
          "name": "stdout",
          "text": [
            "[(0, 1), (0, 2), (1, 0), (1, 3), (1, 4), (2, 0), (2, 5), (3, 1), (4, 1), (4, 5), (5, 2), (5, 4)]\n"
          ]
        }
      ]
    },
    {
      "cell_type": "markdown",
      "metadata": {
        "id": "J3gGD_9ebkFT"
      },
      "source": [
        "Визуализируем этот маршрут:"
      ]
    },
    {
      "cell_type": "code",
      "execution_count": 17,
      "metadata": {
        "colab": {
          "base_uri": "https://localhost:8080/",
          "height": 248
        },
        "id": "M3VvoU6kbkFU",
        "outputId": "e9d53507-4853-4313-cf2e-011431acfaa2"
      },
      "outputs": [
        {
          "output_type": "display_data",
          "data": {
            "text/plain": [
              "<Figure size 432x288 with 1 Axes>"
            ],
            "image/png": "[encoded data removed]"
          },
          "metadata": {}
        }
      ],
      "source": [
        "red_node = set(path)                                                # вершины маршрута\n",
        "red_edges = [ (path[i],path[i+1]) for i in range(len(path)-1) ]     # рёбра маршрута\n",
        "\n",
        "# разделение по цветам вершин и рёбер\n",
        "node_colours = ['g' if not node in red_node else 'red' for node in G.nodes()]\n",
        "black_edges = [edge for edge in G.edges() if edge not in red_edges]\n",
        "\n",
        "# построение графа\n",
        "#p = nx.spring_layout(G)\n",
        "\n",
        "p = {0: [ 0.38144628, -0.66882419],\n",
        " 1: [0.23970166, 0.49135202],\n",
        " 2: [0.41724407, 0.05678197],\n",
        " 3: [-0.55966794,  1.        ],\n",
        " 4: [-0.44016179,  0.07245783],\n",
        " 5: [-0.03856228, -0.95176763]}\n",
        "\n",
        "nx.draw_networkx_nodes(G, p, cmap=plt.get_cmap('jet'), node_color = node_colours, node_size = 500)\n",
        "nx.draw_networkx_labels(G, p)\n",
        "nx.draw_networkx_edges(G, p, edgelist=black_edges, width =2.0, edge_color='k', arrows=True)\n",
        "nx.draw_networkx_edges(G, p, edgelist=red_edges, width =3.0, edge_color='r', arrows=True)\n",
        "\n",
        "plt.show()"
      ]
    },
    {
      "cell_type": "code",
      "execution_count": 18,
      "metadata": {
        "id": "mESdAKQrbkFU",
        "colab": {
          "base_uri": "https://localhost:8080/"
        },
        "outputId": "e03d935e-1e59-422a-f8e9-1a819470db67"
      },
      "outputs": [
        {
          "output_type": "execute_result",
          "data": {
            "text/plain": [
              "{0: [0.38144628, -0.66882419],\n",
              " 1: [0.23970166, 0.49135202],\n",
              " 2: [0.41724407, 0.05678197],\n",
              " 3: [-0.55966794, 1.0],\n",
              " 4: [-0.44016179, 0.07245783],\n",
              " 5: [-0.03856228, -0.95176763]}"
            ]
          },
          "metadata": {},
          "execution_count": 18
        }
      ],
      "source": [
        "# координаты вершин на рисунке\n",
        "p"
      ]
    },
    {
      "cell_type": "markdown",
      "metadata": {
        "id": "MmzK0PM5bkFV"
      },
      "source": [
        "# Упражнение 1\n",
        "\n",
        "Две вершины (v и u) ориентированного графа называют сильно связными, если существует путь из v в u и существует путь из u в v. Ориентированный граф называется сильно связным, если любые две его вершины сильно связны.\n",
        "\n",
        "Напишите функцию, использующую модифицированый алгоритм поиска в глубину (алгоритм Косарайю) для определения компонент сильой связности.\n",
        "\n",
        "Алгоритм:\n",
        "\n",
        "1. Инвертируем дуги исходного ориентированного графа.\n",
        "2. Запускаем поиск в глубину на этом обращённом графе, запоминая, в каком порядке выходили из вершин.\n",
        "3. Запускаем поиск в глубину на исходном графе, в очередной раз выбирая не посещённую вершину с максимальным номером в векторе, полученном в п.2.\n",
        "\n",
        "Полученные из п.3 деревья и являются сильно связными компонентами.\n",
        "\n",
        "Найдите и постройте графически с помощью этой функции компоенты сильной связности графа:"
      ]
    },
    {
      "cell_type": "code",
      "execution_count": 19,
      "metadata": {
        "id": "2z4oGJbmbkFV"
      },
      "outputs": [],
      "source": [
        "pos2 = {0: {1, 2},\n",
        "        1: {3, 4},\n",
        "        2: {1, 4},\n",
        "        3: {4},\n",
        "        4: {1, 3, 5},\n",
        "        5: {0, 2},\n",
        "        6: {3, 0, 5},\n",
        "        7: {2, 1},\n",
        "        8: {0, 7, 3},\n",
        "        9: {2, 4, 6, 8}}"
      ]
    },
    {
      "cell_type": "code",
      "execution_count": 20,
      "metadata": {
        "colab": {
          "base_uri": "https://localhost:8080/",
          "height": 337
        },
        "id": "dBC59KrzbkFV",
        "outputId": "523c1c05-5ffd-48d1-b9ac-58aa4c5bc6c1"
      },
      "outputs": [
        {
          "output_type": "display_data",
          "data": {
            "text/plain": [
              "<Figure size 432x288 with 1 Axes>"
            ],
            "image/png": "[encoded data removed]"
          },
          "metadata": {}
        },
        {
          "output_type": "display_data",
          "data": {
            "text/plain": [
              "<Figure size 432x288 with 0 Axes>"
            ]
          },
          "metadata": {}
        }
      ],
      "source": [
        "N = 10\n",
        "G = nx.DiGraph()\n",
        "a = [(i, j) for i in range(N) for j in pos2[i]] # генерация списка рёбер\n",
        "\n",
        "G.add_nodes_from(range(N))\n",
        "G.add_edges_from(a)\n",
        "\n",
        "nx.draw(G,with_labels=True)\n",
        "\n",
        "pylab.figure ()\n",
        "plt.show()"
      ]
    },
    {
      "cell_type": "code",
      "execution_count": 20,
      "metadata": {
        "id": "e2MWCjUObkFW"
      },
      "outputs": [],
      "source": [
        ""
      ]
    },
    {
      "cell_type": "markdown",
      "metadata": {
        "id": "ZyNZT7lUbkFW"
      },
      "source": [
        "# Пример 2. Ход конём"
      ]
    },
    {
      "cell_type": "markdown",
      "metadata": {
        "id": "GuV5WFSwbkFW"
      },
      "source": [
        "Создадим две строки, комбинация которых даст нам обозночения всех клеток шахматного поля:"
      ]
    },
    {
      "cell_type": "code",
      "execution_count": 21,
      "metadata": {
        "id": "gGj-yaCObkFW"
      },
      "outputs": [],
      "source": [
        "letters = 'abcdefgh'\n",
        "numbers = '12345678'"
      ]
    },
    {
      "cell_type": "markdown",
      "metadata": {
        "id": "gLKgjeRNbkFX"
      },
      "source": [
        "Создадим структуру типа слоарь для хранения графа в формате множества смежности:"
      ]
    },
    {
      "cell_type": "code",
      "execution_count": 22,
      "metadata": {
        "colab": {
          "base_uri": "https://localhost:8080/"
        },
        "id": "RGPzRY5CbkFX",
        "outputId": "deabcd98-3bb9-414b-bfba-0e9463d5370c"
      },
      "outputs": [
        {
          "output_type": "execute_result",
          "data": {
            "text/plain": [
              "{}"
            ]
          },
          "metadata": {},
          "execution_count": 22
        }
      ],
      "source": [
        "graph = dict()\n",
        "graph"
      ]
    },
    {
      "cell_type": "markdown",
      "metadata": {
        "id": "QSwDB2VebkFX"
      },
      "source": [
        "Заполним имена вершин графа:"
      ]
    },
    {
      "cell_type": "code",
      "execution_count": 23,
      "metadata": {
        "colab": {
          "base_uri": "https://localhost:8080/"
        },
        "id": "yVK9yPMfbkFX",
        "outputId": "1f95c04b-776c-4de2-d3d2-8f51711dbf6d"
      },
      "outputs": [
        {
          "output_type": "execute_result",
          "data": {
            "text/plain": [
              "{'a1': set(),\n",
              " 'a2': set(),\n",
              " 'a3': set(),\n",
              " 'a4': set(),\n",
              " 'a5': set(),\n",
              " 'a6': set(),\n",
              " 'a7': set(),\n",
              " 'a8': set(),\n",
              " 'b1': set(),\n",
              " 'b2': set(),\n",
              " 'b3': set(),\n",
              " 'b4': set(),\n",
              " 'b5': set(),\n",
              " 'b6': set(),\n",
              " 'b7': set(),\n",
              " 'b8': set(),\n",
              " 'c1': set(),\n",
              " 'c2': set(),\n",
              " 'c3': set(),\n",
              " 'c4': set(),\n",
              " 'c5': set(),\n",
              " 'c6': set(),\n",
              " 'c7': set(),\n",
              " 'c8': set(),\n",
              " 'd1': set(),\n",
              " 'd2': set(),\n",
              " 'd3': set(),\n",
              " 'd4': set(),\n",
              " 'd5': set(),\n",
              " 'd6': set(),\n",
              " 'd7': set(),\n",
              " 'd8': set(),\n",
              " 'e1': set(),\n",
              " 'e2': set(),\n",
              " 'e3': set(),\n",
              " 'e4': set(),\n",
              " 'e5': set(),\n",
              " 'e6': set(),\n",
              " 'e7': set(),\n",
              " 'e8': set(),\n",
              " 'f1': set(),\n",
              " 'f2': set(),\n",
              " 'f3': set(),\n",
              " 'f4': set(),\n",
              " 'f5': set(),\n",
              " 'f6': set(),\n",
              " 'f7': set(),\n",
              " 'f8': set(),\n",
              " 'g1': set(),\n",
              " 'g2': set(),\n",
              " 'g3': set(),\n",
              " 'g4': set(),\n",
              " 'g5': set(),\n",
              " 'g6': set(),\n",
              " 'g7': set(),\n",
              " 'g8': set(),\n",
              " 'h1': set(),\n",
              " 'h2': set(),\n",
              " 'h3': set(),\n",
              " 'h4': set(),\n",
              " 'h5': set(),\n",
              " 'h6': set(),\n",
              " 'h7': set(),\n",
              " 'h8': set()}"
            ]
          },
          "metadata": {},
          "execution_count": 23
        }
      ],
      "source": [
        "for l in letters:\n",
        "    for n in numbers:\n",
        "        graph[l+n] = set()\n",
        "graph"
      ]
    },
    {
      "cell_type": "markdown",
      "metadata": {
        "id": "WOuljgqpbkFY"
      },
      "source": [
        "Заполним множества смежности:"
      ]
    },
    {
      "cell_type": "code",
      "execution_count": 24,
      "metadata": {
        "id": "5UeiZfGHbkFY"
      },
      "outputs": [],
      "source": [
        "def add_edge(graph, v1, v2):\n",
        "    graph[v1].add(v2)\n",
        "    graph[v2].add(v1)              "
      ]
    },
    {
      "cell_type": "code",
      "execution_count": 25,
      "metadata": {
        "id": "Db0QaWWCbkFY"
      },
      "outputs": [],
      "source": [
        "for i in range(8):\n",
        "    for j in range(8):\n",
        "        v1 = letters[i]+numbers[j]\n",
        "        v2 = ''\n",
        "        if 0<=i+2<8 and 0<=j+1<8:\n",
        "            v2 = letters[i+2]+numbers[j+1]\n",
        "            add_edge(graph, v1, v2)\n",
        "            \n",
        "        if 0<=i-2<8 and 0<=j+1<8:\n",
        "            v2 = letters[i-2]+numbers[j+1]\n",
        "            add_edge(graph, v1, v2)\n",
        "            \n",
        "        if 0<=i+1<8 and 0<=j+2<8:\n",
        "            v2 = letters[i+1]+numbers[j+2]\n",
        "            add_edge(graph, v1, v2)            \n",
        "            \n",
        "        if 0<=i-1<8 and 0<=j+2<8:\n",
        "            v2 = letters[i-1]+numbers[j+2]\n",
        "            add_edge(graph, v1, v2)  "
      ]
    },
    {
      "cell_type": "code",
      "execution_count": 26,
      "metadata": {
        "colab": {
          "base_uri": "https://localhost:8080/"
        },
        "id": "eIkHpY6LbkFY",
        "outputId": "cf62832d-9e45-4605-81f2-fe6b1cdcf65f"
      },
      "outputs": [
        {
          "output_type": "execute_result",
          "data": {
            "text/plain": [
              "{'a1': {'b3', 'c2'},\n",
              " 'a2': {'b4', 'c1', 'c3'},\n",
              " 'a3': {'b1', 'b5', 'c2', 'c4'},\n",
              " 'a4': {'b2', 'b6', 'c3', 'c5'},\n",
              " 'a5': {'b3', 'b7', 'c4', 'c6'},\n",
              " 'a6': {'b4', 'b8', 'c5', 'c7'},\n",
              " 'a7': {'b5', 'c6', 'c8'},\n",
              " 'a8': {'b6', 'c7'},\n",
              " 'b1': {'a3', 'c3', 'd2'},\n",
              " 'b2': {'a4', 'c4', 'd1', 'd3'},\n",
              " 'b3': {'a1', 'a5', 'c1', 'c5', 'd2', 'd4'},\n",
              " 'b4': {'a2', 'a6', 'c2', 'c6', 'd3', 'd5'},\n",
              " 'b5': {'a3', 'a7', 'c3', 'c7', 'd4', 'd6'},\n",
              " 'b6': {'a4', 'a8', 'c4', 'c8', 'd5', 'd7'},\n",
              " 'b7': {'a5', 'c5', 'd6', 'd8'},\n",
              " 'b8': {'a6', 'c6', 'd7'},\n",
              " 'c1': {'a2', 'b3', 'd3', 'e2'},\n",
              " 'c2': {'a1', 'a3', 'b4', 'd4', 'e1', 'e3'},\n",
              " 'c3': {'a2', 'a4', 'b1', 'b5', 'd1', 'd5', 'e2', 'e4'},\n",
              " 'c4': {'a3', 'a5', 'b2', 'b6', 'd2', 'd6', 'e3', 'e5'},\n",
              " 'c5': {'a4', 'a6', 'b3', 'b7', 'd3', 'd7', 'e4', 'e6'},\n",
              " 'c6': {'a5', 'a7', 'b4', 'b8', 'd4', 'd8', 'e5', 'e7'},\n",
              " 'c7': {'a6', 'a8', 'b5', 'd5', 'e6', 'e8'},\n",
              " 'c8': {'a7', 'b6', 'd6', 'e7'},\n",
              " 'd1': {'b2', 'c3', 'e3', 'f2'},\n",
              " 'd2': {'b1', 'b3', 'c4', 'e4', 'f1', 'f3'},\n",
              " 'd3': {'b2', 'b4', 'c1', 'c5', 'e1', 'e5', 'f2', 'f4'},\n",
              " 'd4': {'b3', 'b5', 'c2', 'c6', 'e2', 'e6', 'f3', 'f5'},\n",
              " 'd5': {'b4', 'b6', 'c3', 'c7', 'e3', 'e7', 'f4', 'f6'},\n",
              " 'd6': {'b5', 'b7', 'c4', 'c8', 'e4', 'e8', 'f5', 'f7'},\n",
              " 'd7': {'b6', 'b8', 'c5', 'e5', 'f6', 'f8'},\n",
              " 'd8': {'b7', 'c6', 'e6', 'f7'},\n",
              " 'e1': {'c2', 'd3', 'f3', 'g2'},\n",
              " 'e2': {'c1', 'c3', 'd4', 'f4', 'g1', 'g3'},\n",
              " 'e3': {'c2', 'c4', 'd1', 'd5', 'f1', 'f5', 'g2', 'g4'},\n",
              " 'e4': {'c3', 'c5', 'd2', 'd6', 'f2', 'f6', 'g3', 'g5'},\n",
              " 'e5': {'c4', 'c6', 'd3', 'd7', 'f3', 'f7', 'g4', 'g6'},\n",
              " 'e6': {'c5', 'c7', 'd4', 'd8', 'f4', 'f8', 'g5', 'g7'},\n",
              " 'e7': {'c6', 'c8', 'd5', 'f5', 'g6', 'g8'},\n",
              " 'e8': {'c7', 'd6', 'f6', 'g7'},\n",
              " 'f1': {'d2', 'e3', 'g3', 'h2'},\n",
              " 'f2': {'d1', 'd3', 'e4', 'g4', 'h1', 'h3'},\n",
              " 'f3': {'d2', 'd4', 'e1', 'e5', 'g1', 'g5', 'h2', 'h4'},\n",
              " 'f4': {'d3', 'd5', 'e2', 'e6', 'g2', 'g6', 'h3', 'h5'},\n",
              " 'f5': {'d4', 'd6', 'e3', 'e7', 'g3', 'g7', 'h4', 'h6'},\n",
              " 'f6': {'d5', 'd7', 'e4', 'e8', 'g4', 'g8', 'h5', 'h7'},\n",
              " 'f7': {'d6', 'd8', 'e5', 'g5', 'h6', 'h8'},\n",
              " 'f8': {'d7', 'e6', 'g6', 'h7'},\n",
              " 'g1': {'e2', 'f3', 'h3'},\n",
              " 'g2': {'e1', 'e3', 'f4', 'h4'},\n",
              " 'g3': {'e2', 'e4', 'f1', 'f5', 'h1', 'h5'},\n",
              " 'g4': {'e3', 'e5', 'f2', 'f6', 'h2', 'h6'},\n",
              " 'g5': {'e4', 'e6', 'f3', 'f7', 'h3', 'h7'},\n",
              " 'g6': {'e5', 'e7', 'f4', 'f8', 'h4', 'h8'},\n",
              " 'g7': {'e6', 'e8', 'f5', 'h5'},\n",
              " 'g8': {'e7', 'f6', 'h6'},\n",
              " 'h1': {'f2', 'g3'},\n",
              " 'h2': {'f1', 'f3', 'g4'},\n",
              " 'h3': {'f2', 'f4', 'g1', 'g5'},\n",
              " 'h4': {'f3', 'f5', 'g2', 'g6'},\n",
              " 'h5': {'f4', 'f6', 'g3', 'g7'},\n",
              " 'h6': {'f5', 'f7', 'g4', 'g8'},\n",
              " 'h7': {'f6', 'f8', 'g5'},\n",
              " 'h8': {'f7', 'g6'}}"
            ]
          },
          "metadata": {},
          "execution_count": 26
        }
      ],
      "source": [
        "graph"
      ]
    },
    {
      "cell_type": "markdown",
      "metadata": {
        "id": "7Bpw444JbkFZ"
      },
      "source": [
        "Проведём сканирование графа в ширину:"
      ]
    },
    {
      "cell_type": "code",
      "execution_count": 27,
      "metadata": {
        "id": "MPFMA6wqbkFZ"
      },
      "outputs": [],
      "source": [
        "start = 'd4'\n",
        "end = 'f7'\n",
        "\n",
        "level, parents = bfs(graph, start)"
      ]
    },
    {
      "cell_type": "markdown",
      "metadata": {
        "id": "l9aYTgSibkFZ"
      },
      "source": [
        "И прлучим маршрут коня:"
      ]
    },
    {
      "cell_type": "code",
      "execution_count": 28,
      "metadata": {
        "colab": {
          "base_uri": "https://localhost:8080/"
        },
        "id": "xlB5mFTLbkFZ",
        "outputId": "1b1b5945-4a2f-404e-8db3-db175b03f054"
      },
      "outputs": [
        {
          "output_type": "execute_result",
          "data": {
            "text/plain": [
              "['d4', 'e6', 'g5', 'f7']"
            ]
          },
          "metadata": {},
          "execution_count": 28
        }
      ],
      "source": [
        "PATH(end, parents)"
      ]
    },
    {
      "cell_type": "markdown",
      "metadata": {
        "id": "E8-SncE_bkFa"
      },
      "source": [
        "# Упражнение 2.\n",
        "\n",
        "Нарисуйте граф соответствующий маршрутам коня по шахматной доске и отметте на нём найденный маршрут."
      ]
    },
    {
      "cell_type": "code",
      "execution_count": 29,
      "metadata": {
        "id": "OZMJJqphbkFa",
        "colab": {
          "base_uri": "https://localhost:8080/",
          "height": 266
        },
        "outputId": "e7f0a3e3-dcd7-4368-b099-5db467e633dd"
      },
      "outputs": [
        {
          "output_type": "display_data",
          "data": {
            "text/plain": [
              "<Figure size 432x288 with 1 Axes>"
            ],
            "image/png": "[encoded data removed]"
          },
          "metadata": {}
        },
        {
          "output_type": "display_data",
          "data": {
            "text/plain": [
              "<Figure size 432x288 with 0 Axes>"
            ]
          },
          "metadata": {}
        }
      ],
      "source": [
        "Kpath = PATH(end, parents)\n",
        "p = {}\n",
        "for l in range(len(letters)):\n",
        "    for n in range(len(numbers)):\n",
        "        p[letters[l]+numbers[n]] = [-1 + l * 0.25, -1 + n * 0.25]\n",
        "G = nx.DiGraph()\n",
        "a = [(i, j) for i in graph for j in graph[i]]\n",
        "\n",
        "G.add_edges_from(a)\n",
        "\n",
        "#p = nx.spring_layout(G)\n",
        "red_node = set(Kpath)\n",
        "red_edges = [ (Kpath[i],Kpath[i+1]) for i in range(len(Kpath)-1) ]\n",
        "\n",
        "node_colours = ['w' if not node in red_node else 'r' for node in G.nodes()]\n",
        "black_edges = [edge for edge in G.edges() if edge not in red_edges]\n",
        "\n",
        "nx.draw_networkx_nodes(G, p, cmap=plt.get_cmap('jet'), node_color=node_colours, node_size=500)\n",
        "nx.draw_networkx_labels(G, p)\n",
        "nx.draw_networkx_edges(G, p, edgelist=red_edges, width=1.0, edge_color='r', arrows=True)\n",
        "\n",
        "pylab.figure()\n",
        "plt.show()"
      ]
    },
    {
      "cell_type": "markdown",
      "metadata": {
        "id": "XNMdBIwtbkFa"
      },
      "source": [
        "# Упражнение 3. Раскраски.\n",
        "\n",
        "Рассмотрим граф G(V,E), имеющий V вершин и E ребер. Раскраской графа G называется окрашивание вершин графа G такое, что никакие две смежные вершины не имеют одинаковый цвет. Хроматическое число графа X(G) - это наименьшее число цветов, которое используется для раскраски графа. Известен жадный алгоритм раскраски графа.\n",
        "\n",
        "Жадный алгоритм последовательного раскрашивания:\n",
        "\n",
        "Входные данные: граф G (V,E)\n",
        "Выходные данные: массив c[v] раскрашенных вершин\n",
        "1. Для всех вершин определить множество А ={1,2,3..,n} всех цветов.\n",
        "2. Выбрать стартовую вершину (с которой начинаем алгоритм). Раскрасить вершину в цвет color. Вычеркнуть этот цвет из множества цветов всех вершин, смежных со стартовой.\n",
        "3. Выбрать не раскрашенную вершину v\n",
        "4. Раскрасить выбранную вершину в минимально возможный цвет из множества А. Вычеркнуть этот цвет из множества цветов всех вершин, смежных с вершиной v.\n",
        "5. Проделать шаг 3, шаг 4 для всех нераскрашенных вершин графа.\n",
        "\n",
        "На основе этого алгоритма раскрасьте граф из задачи про коня."
      ]
    },
    {
      "cell_type": "code",
      "execution_count": 30,
      "metadata": {
        "id": "ioZjOK2ObkFa"
      },
      "outputs": [],
      "source": [
        "def ggca(graph):\n",
        "    colors = {i: None for i in graph.keys()}\n",
        "    for i in graph.keys():\n",
        "        minimal_set = []\n",
        "        for s in graph[i]:\n",
        "            if colors[s] is not None:\n",
        "                minimal_set.append(colors[s])\n",
        "        for c in range(len(graph)):\n",
        "            if c not in minimal_set:\n",
        "                colors[i] = c\n",
        "                break\n",
        "    return colors\n"
      ]
    },
    {
      "cell_type": "code",
      "source": [
        "r = ggca(graph)"
      ],
      "metadata": {
        "id": "lhobqufdG-dj"
      },
      "execution_count": 31,
      "outputs": []
    },
    {
      "cell_type": "code",
      "source": [
        "G = nx.DiGraph()\n",
        "a = [(i, j) for i in graph for j in graph[i]]\n",
        "\n",
        "G.add_edges_from(a)\n",
        "\n",
        "#p = nx.spring_layout(G)\n",
        "\n",
        "node_colours = ['b' if r[node] == 0 else 'r' if r[node] == 1 else 'g' for node in G.nodes()]\n",
        "\n",
        "nx.draw_networkx_nodes(G, p, cmap=plt.get_cmap('jet'), node_color=node_colours, node_size=500)\n",
        "nx.draw_networkx_labels(G, p)\n",
        "\n",
        "pylab.figure()\n",
        "plt.show()"
      ],
      "metadata": {
        "colab": {
          "base_uri": "https://localhost:8080/",
          "height": 266
        },
        "id": "vQAmyzp3G_Na",
        "outputId": "c56b3ba2-79e3-4355-923b-daff1dd669e7"
      },
      "execution_count": 32,
      "outputs": [
        {
          "output_type": "display_data",
          "data": {
            "text/plain": [
              "<Figure size 432x288 with 1 Axes>"
            ],
            "image/png": "[encoded data removed]"
          },
          "metadata": {}
        },
        {
          "output_type": "display_data",
          "data": {
            "text/plain": [
              "<Figure size 432x288 with 0 Axes>"
            ]
          },
          "metadata": {}
        }
      ]
    },
    {
      "cell_type": "markdown",
      "metadata": {
        "id": "-lnx3tF5bkFb"
      },
      "source": [
        "# Домашнее задание (базовое):"
      ]
    },
    {
      "cell_type": "markdown",
      "metadata": {
        "id": "OTz85iC1bkFb"
      },
      "source": [
        "# Задание 1. Алгоритм Дейкстры\n",
        "\n",
        "Напишите функцию реализуущую алгоритм Дейкстры."
      ]
    },
    {
      "cell_type": "code",
      "execution_count": 33,
      "metadata": {
        "id": "k2-fPbo7bkFb",
        "colab": {
          "base_uri": "https://localhost:8080/",
          "height": 34
        },
        "outputId": "af94dfc9-11e8-4aaa-cdd1-ad011e9df3e0"
      },
      "outputs": [
        {
          "output_type": "execute_result",
          "data": {
            "text/plain": [
              "<IPython.core.display.Image object>"
            ],
            "image/png": "Dijkstra.png"
          },
          "metadata": {},
          "execution_count": 33
        }
      ],
      "source": [
        "# Так можно добавлять картинки\n",
        "\n",
        "from IPython.display import Image # вызов из библиотеки определённой функции\n",
        "Image(\"Dijkstra.png\")             # вызов функции и передача ей в качестве аргумента пути к файлу \n",
        "\n",
        "# (в данном случае фаил находится в той же папке)\n"
      ]
    },
    {
      "cell_type": "code",
      "source": [
        "import sys\n",
        "\n",
        "class Graph():\n",
        "    def __init__(self, vertices):\n",
        "        self.V = vertices\n",
        "        self.graph = [[0 for column in range(vertices)] for row in range(vertices)]\n",
        "    \n",
        "    def min_distance(self, dist, sptSet):\n",
        "        min = sys.maxsize\n",
        "        for v in range(self.V):\n",
        "            if dist[v] < min and sptSet[v] == False:\n",
        "                min = dist[v]\n",
        "                min_index = v\n",
        "        return min_index\n",
        "    \n",
        "    def dijkstra(self, src):\n",
        "        dist = [sys.maxsize] * self.V\n",
        "        dist[src] = 0\n",
        "        sptSet = [False] * self.V\n",
        "        for cout in range(self.V):\n",
        "            u = self.min_distance(dist, sptSet)\n",
        "            sptSet[u] = True\n",
        "            for v in range(self.V):\n",
        "                if self.graph[u][v] > 0 and sptSet[v] == False and dist[v] > dist[u] + self.graph[u][v]:\n",
        "                    dist[v] = dist[u] + self.graph[u][v]\n",
        "        self.show(dist)\n",
        "    \n",
        "    def show(self, dist):\n",
        "        print(\"Вершина  Расстояние до источника\")\n",
        "        for node in range(self.V):\n",
        "            print(node, \"\\t\", dist[node])"
      ],
      "metadata": {
        "id": "Ue7_f4tzHG_y"
      },
      "execution_count": 34,
      "outputs": []
    },
    {
      "cell_type": "markdown",
      "metadata": {
        "id": "6wt8xVYHbkFc"
      },
      "source": [
        "# Задание 2. \n",
        "\n",
        "Сгенерируйте случайный взвешенный граф. И определите на нём маршрут минимальной длины с помощью алгоритма Дейкстры."
      ]
    },
    {
      "cell_type": "code",
      "execution_count": 36,
      "metadata": {
        "id": "WaVfDb22bkFc",
        "colab": {
          "base_uri": "https://localhost:8080/",
          "height": 592
        },
        "outputId": "416806f3-63cd-4d65-fb1d-c686a922c3d9"
      },
      "outputs": [
        {
          "output_type": "stream",
          "name": "stdout",
          "text": [
            "Вершина  Расстояние до источника\n",
            "0 \t 0\n",
            "1 \t 10\n",
            "2 \t 30\n",
            "3 \t 53\n",
            "4 \t 11\n",
            "5 \t 63\n",
            "6 \t 37\n",
            "7 \t 28\n",
            "8 \t 3\n",
            "9 \t 86\n"
          ]
        },
        {
          "output_type": "display_data",
          "data": {
            "text/plain": [
              "<Figure size 576x360 with 1 Axes>"
            ],
            "image/png": "[encoded data removed]"
          },
          "metadata": {}
        }
      ],
      "source": [
        "from itertools import combinations, groupby\n",
        "import networkx as nx\n",
        "import random\n",
        "\n",
        "def gnp_random_connected_graph(n, p):\n",
        "    \"\"\"\n",
        "    Generates a random undirected graph, similarly to an Erdős-Rényi \n",
        "    graph, but enforcing that the resulting graph is conneted\n",
        "    \"\"\"\n",
        "    edges = combinations(range(n), 2)\n",
        "    G = nx.Graph()\n",
        "    G.add_nodes_from(range(n))\n",
        "    if p <= 0:\n",
        "        return G\n",
        "    if p >= 1:\n",
        "        return nx.complete_graph(n, create_using=G)\n",
        "    for _, node_edges in groupby(edges, key=lambda x: x[0]):\n",
        "        node_edges = list(node_edges)\n",
        "        random_edge = random.choice(node_edges)\n",
        "        G.add_edge(*random_edge)\n",
        "        for e in node_edges:\n",
        "            if random.random() < p:\n",
        "                G.add_edge(*e)\n",
        "    return G\n",
        "\n",
        "\n",
        "nodes = random.randint(5,12)\n",
        "seed = random.randint(1,12)\n",
        "probability = 0.1\n",
        "G = gnp_random_connected_graph(nodes,probability)\n",
        "\n",
        "plt.figure(figsize=(8,5))\n",
        "nx.draw(G, node_color='lightblue', \n",
        "        with_labels=True, \n",
        "        node_size=500)\n",
        "\n",
        "\n",
        "#random.seed(datetime.now())\n",
        "size = int(random.uniform(4, 17))\n",
        "w = [[0] * size] * size\n",
        "for i in range(len(w)):\n",
        "    for j in range(len(w[i])):\n",
        "        w[i][j] = int(random.uniform(0, 101))\n",
        "        \n",
        "g = Graph(size)\n",
        "g.graph = w\n",
        "\n",
        "g.dijkstra(0)"
      ]
    },
    {
      "cell_type": "markdown",
      "metadata": {
        "id": "iZYbHnQlbkFc"
      },
      "source": [
        "# Задание 3.\n",
        "\n",
        "Проиллюстрируйте работу одного из алгоритмов (поиска в ширину или глубину, Дейкстры) с помощью визуализации действий с графом на каждой итерации с помощью библиотек networkx и matplotlib, аналогично примеру 1."
      ]
    },
    {
      "cell_type": "code",
      "execution_count": null,
      "metadata": {
        "id": "ezB4JDmjbkFc"
      },
      "outputs": [],
      "source": [
        "import time\n",
        "\n",
        "G = nx.DiGraph()\n",
        "a = [(i, j) for i in pos for j in pos[i]]\n",
        "\n",
        "G.add_edges_from(a)\n",
        "node_colours = ['b' for node in G.nodes()]\n",
        "edges = [i for i in G.edges()]\n",
        "p = nx.spring_layout(G)\n",
        "\n",
        "pylab.figure()\n",
        "plt.show()\n",
        "\n",
        "def redraw(prev, curr):\n",
        "    if prev:\n",
        "        node_colours[prev] = 'b'\n",
        "        node_colours[curr] = 'r'\n",
        "    nx.draw_networkx_nodes(G, p, cmap=plt.get_cmap('jet'), node_color=node_colours, node_size=500)\n",
        "    nx.draw_networkx_labels(G, p)\n",
        "    nx.draw_networkx_edges(G, p, edgelist=edges, width=1.0, edge_color='k', arrows=True)\n",
        "    pylab.figure()\n",
        "    plt.show()\n",
        "\n",
        "def bfs_vis(graph, s, out=0):\n",
        "    parents = {v: None for v in graph}\n",
        "    level = {v: None for v in graph}\n",
        "    level[s] = 0\n",
        "    queue = [s]\n",
        "    prev = None\n",
        "    while queue:\n",
        "        v = queue.pop(0)\n",
        "        redraw(prev, v)\n",
        "        prev = v\n",
        "        time.sleep(1)\n",
        "        for w in graph[v]:\n",
        "            if level[w] is None:\n",
        "                queue.append(w)\n",
        "                parents[w] = v\n",
        "                level[w] = level[v] + 1\n",
        "        if out: print(level[w], level, queue)\n",
        "    return level, parents\n",
        "\n",
        "time.sleep(1)\n",
        "\n",
        "bfs_vis(pos, 0)"
      ]
    },
    {
      "cell_type": "markdown",
      "metadata": {
        "id": "NISHfhFxbkFd"
      },
      "source": [
        "# Задание 4. В библиотеке.\n",
        "\n",
        "Используйте какой-нибудь интересный алгоритм из https://networkx.github.io/documentation/stable/reference/algorithms/index.html"
      ]
    },
    {
      "cell_type": "code",
      "source": [
        "!pip install KMeans"
      ],
      "metadata": {
        "id": "O24fzckgWdjS"
      },
      "execution_count": null,
      "outputs": []
    },
    {
      "cell_type": "code",
      "execution_count": null,
      "metadata": {
        "id": "3SDe22CJbkFd"
      },
      "outputs": [],
      "source": [
        "import numpy as np\n",
        "from sklearn.cluster import KMeans\n",
        "import numpy as np\n",
        "#Спектральная кластеризация\n",
        "#График лапласианского\n",
        "# a 2x2 matrix\n",
        "A = np.array([[0,1],[-2,-3]])\n",
        "\n",
        "\n",
        "vals, vecs = np.linalg.eig(A)\n",
        "\n",
        "\n",
        "for i, value in enumerate(vals):\n",
        "    print(\"Eigenvector:\", vecs[:,i], \", Eigenvalue:\", value)\n",
        "A = np.array([\n",
        "  [0, 1, 1, 0, 0, 0, 0, 0, 1, 1],\n",
        "  [1, 0, 1, 0, 0, 0, 0, 0, 0, 0],\n",
        "  [1, 1, 0, 0, 0, 0, 0, 0, 0, 0],\n",
        "  [0, 0, 0, 0, 1, 1, 0, 0, 0, 0],\n",
        "  [0, 0, 0, 1, 0, 1, 0, 0, 0, 0],\n",
        "  [0, 0, 0, 1, 1, 0, 1, 1, 0, 0],\n",
        "  [0, 0, 0, 0, 0, 1, 0, 1, 0, 0],\n",
        "  [0, 0, 0, 0, 0, 1, 1, 0, 0, 0],\n",
        "  [1, 0, 0, 0, 0, 0, 0, 0, 0, 1],\n",
        "  [1, 0, 0, 0, 0, 0, 0, 0, 1, 0]])\n",
        "D = np.diag(A.sum(axis=1))\n",
        "print(D)\n",
        "L = D-A\n",
        "LD = np.diag(A.sum(axis=1))\n",
        "\n",
        "\n",
        "L = D-A\n",
        "print(L)\n",
        "\n",
        "vals, vecs = np.linalg.eig(L)\n",
        "\n",
        "\n",
        "vecs = vecs[:,np.argsort(vals)]\n",
        "vals = vals[np.argsort(vals)]\n",
        "\n",
        "\n",
        "kmeans = KMeans(n_clusters=4)\n",
        "kmeans.fit(vecs[:,1:4])\n",
        "colors = kmeans.labels_\n",
        "\n",
        "print(\"Clusters:\", colors)"
      ]
    },
    {
      "cell_type": "code",
      "source": [
        "\n",
        "\n",
        "\n"
      ],
      "metadata": {
        "id": "4LESclHgRww5"
      },
      "execution_count": null,
      "outputs": []
    },
    {
      "cell_type": "markdown",
      "metadata": {
        "id": "lw7qFnAxbkFd"
      },
      "source": [
        "# Домашнее задание (дополнительное):"
      ]
    },
    {
      "cell_type": "markdown",
      "metadata": {
        "id": "3hxRgMiObkFe"
      },
      "source": [
        "# Задание. Картинка.\n",
        "\n",
        "Существует много способов кодирования изображений. Рассмотрим два из них. Пусть изображения состоят только из чёрных и белых пикселей. В каждом из них есть хотя бы один чёрный пиксель, и все чёрные пиксели составляют одну связанную область (соединены сторонами друг с другом). \n",
        "\n",
        "Оба представления описывают расположение только чёрных пикселей.\n",
        "\n",
        "Первое представление задаёт в первой строке количество чёрных пикселей, а в следующих строках — координаты каждого чёрного пикселя. Пиксели перечислены в порядке возрастания X-координат. В случае равенства X-координат они перечислены в порядке возрастания Y-координат. Изображение, показанное на рисунке, кодируется следующим образом:\n",
        "\n",
        "6\n",
        "\n",
        "2 3\n",
        "\n",
        "2 4\n",
        "\n",
        "3 3\n",
        "\n",
        "3 4\n",
        "\n",
        "4 2\n",
        "\n",
        "4 3\n",
        "\n",
        "Второе представление задаёт в первой строке координаты самого нижнего из самых левых чёрных пикселей. Каждая из следующих строк содержит описание соседей одного из пикселей. Сначала описываются соседи самого нижнего из самых левых пикселей, затем описываются соседи его первого соседа (если он существует), затем соседи его второго соседа (если он также существует). Когда все непосредственные соседи описаны, следует описание соседей первого соседа, затем описание соседей второго соседа и так далее.\n",
        "\n",
        "Каждая строка описания содержит не более одной буквы для каждого из соседей: R для правого, T для верхнего, L для левого, B для нижнего. Если сосед уже был описан, он не включается в строку описания, если ещё не был — включается. Каждый пиксель описывается одной строкой. Соседи перечисляются в порядке против часовой стрелки, начиная с правого. Каждая строка описания, кроме последней, заканчивается запятой. Последняя строка заканчивается точкой. Изображение, показанное на рисунке, кодируется следующим образом:\n",
        "\n",
        "2 3\n",
        "\n",
        "RT,\n",
        "\n",
        "RT,\n",
        "\n",
        ",\n",
        "\n",
        "B,\n",
        "\n",
        ",\n",
        "\n",
        ".\n",
        "\n",
        "Закодированное таким образом изображение имеет следующий вид. "
      ]
    },
    {
      "cell_type": "code",
      "execution_count": null,
      "metadata": {
        "id": "-01Se_1xbkFe"
      },
      "outputs": [],
      "source": [
        "# Так можно добавлять картинки\n",
        "\n",
        "from IPython.display import Image              # вызов из библиотеки определённой функции\n",
        "Image(\"Кодирование изображений (Графы).png\")   # вызов функции и передача ей в качестве аргумента пути к файлу \n",
        "\n",
        "# (в данном случае фаил находится в той же папке)"
      ]
    },
    {
      "cell_type": "markdown",
      "metadata": {
        "id": "49HJLzN_bkFg"
      },
      "source": [
        "Напишите программу выполняющую изменение кодировки из первого формата во второй и выводящую соответствующее изображение на экран. Начальное и переконвертированное изображение должно храниться в файлах с соответствующими размерностями: .format1 и .format2."
      ]
    },
    {
      "cell_type": "code",
      "execution_count": null,
      "metadata": {
        "id": "lm-LC4-FbkFg"
      },
      "outputs": [],
      "source": [
        ""
      ]
    },
    {
      "cell_type": "markdown",
      "metadata": {
        "id": "qyIZfCOebkFg"
      },
      "source": [
        "# Задание. Алгоритм Форда - Беллмана\n",
        "\n",
        "Напишите функцию реализуущую алгоритм Форда - Беллмана\n",
        "(https://ru.wikipedia.org/wiki/%D0%90%D0%BB%D0%B3%D0%BE%D1%80%D0%B8%D1%82%D0%BC_%D0%91%D0%B5%D0%BB%D0%BB%D0%BC%D0%B0%D0%BD%D0%B0_%E2%80%94_%D0%A4%D0%BE%D1%80%D0%B4%D0%B0)."
      ]
    },
    {
      "cell_type": "code",
      "execution_count": null,
      "metadata": {
        "id": "Wzr3gbSgbkFh"
      },
      "outputs": [],
      "source": [
        "import math\n",
        "\n",
        "def ford_bellman(W, start):\n",
        "    N = len(W)\n",
        "    F = [[math.inf] * N for i in range(N)]\n",
        "    F[0][start] = 0 \n",
        "    for k in range(1, N): \n",
        "        for i in range(N): \n",
        "            F[k][i] = F[k - 1][i]\n",
        "            for j in range(N):\n",
        "                if F[k - 1][j] + W[j][i] < F[k][i]:\n",
        "                    F[k][i] = F[k - 1][j] + W[j][i]\n",
        "    return F\n",
        "W = [[1, 2, 3],\n",
        "     [1, 2, 9],\n",
        "     [9, 5, 1]]\n",
        "\n",
        "ford_bellman(W, 0)\n"
      ]
    },
    {
      "cell_type": "markdown",
      "metadata": {
        "id": "PK7PORObbkFh"
      },
      "source": [
        "# Задание. Лабирит.\n",
        "\n",
        "Найдите выход из лабирита с помощью различных алгоритмов и сравите их. (Взвести рёбра пропорционально их длине.)"
      ]
    },
    {
      "cell_type": "code",
      "execution_count": null,
      "metadata": {
        "id": "AX1Ha1XEbkFh"
      },
      "outputs": [],
      "source": [
        "# Так можно добавлять картинки\n",
        "\n",
        "from IPython.display import Image # вызов из библиотеки определённой функции\n",
        "Image(\"Лабиринт.png\")             # вызов функции и передача ей в качестве аргумента пути к файлу \n",
        "\n",
        "# (в данном случае фаил находится в той же папке)"
      ]
    },
    {
      "cell_type": "code",
      "execution_count": null,
      "metadata": {
        "id": "r45nwgHrbkFi"
      },
      "outputs": [],
      "source": [
        ""
      ]
    },
    {
      "cell_type": "markdown",
      "metadata": {
        "id": "XusDKS9EbkFi"
      },
      "source": [
        "# Задание. Электроскутер.\n",
        "\n",
        "У Еремея есть электросамокат — и он хочет доехать от дома до института, затратив как можно меньше энергии. Весь город расположен на холмистой местности и разделён на квадраты. Для каждого перекрёстка известна его высота в метрах над уровнем моря. Если ехать от перекрёстка с большей высотой до смежного с ним перекрёстка с меньшей высотой, то электроэнергию можно аккумулировать (заряжая скутор), а если наоборот, то расход энергии равен разнице высот между перекрёстками.\n",
        "Помогите Еремею спланировать маршрут, чтобы он затратил наименьшее возможное количество энергии от дома до института и определите это количество."
      ]
    },
    {
      "cell_type": "code",
      "execution_count": null,
      "metadata": {
        "id": "MkQx6GAabkFi"
      },
      "outputs": [],
      "source": [
        ""
      ]
    }
  ],
  "metadata": {
    "kernelspec": {
      "display_name": "Python 3",
      "language": "python",
      "name": "python3"
    },
    "language_info": {
      "codemirror_mode": {
        "name": "ipython",
        "version": 3
      },
      "file_extension": ".py",
      "mimetype": "text/x-python",
      "name": "python",
      "nbconvert_exporter": "python",
      "pygments_lexer": "ipython3",
      "version": "3.8.8"
    },
    "colab": {
      "name": "Laba 9 (1) (1).ipynb",
      "provenance": [],
      "collapsed_sections": [
        "-lnx3tF5bkFb",
        "lw7qFnAxbkFd",
        "3hxRgMiObkFe"
      ]
    }
  },
  "nbformat": 4,
  "nbformat_minor": 0
}